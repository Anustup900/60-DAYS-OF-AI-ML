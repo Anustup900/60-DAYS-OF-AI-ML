{
 "cells": [
  {
   "cell_type": "markdown",
   "id": "0815a3ba",
   "metadata": {},
   "source": [
    "# Jasleen Minhas"
   ]
  },
  {
   "cell_type": "markdown",
   "id": "0b18b40f",
   "metadata": {
    "slideshow": {
     "slide_type": "slide"
    }
   },
   "source": [
    "<a name='exercises_variables'></a>Exercises\n",
    "---\n",
    "#### Hello World - variable\n",
    "\n",
    "- Store your own version of the message \"Hello World\" in a variable, and print it.\n",
    "\n",
    "#### One Variable, Two Messages:\n",
    "- Store a message in a variable, and then print that message.\n",
    "- Store a new message in the same variable, and then print that new message."
   ]
  },
  {
   "cell_type": "code",
   "execution_count": 2,
   "id": "2ec2e6a8",
   "metadata": {},
   "outputs": [
    {
     "name": "stdout",
     "output_type": "stream",
     "text": [
      "Hello-Guys\n"
     ]
    }
   ],
   "source": [
    "# Question 1.1 Hello World - variable\n",
    "\n",
    "message = \"Hello-Guys\"\n",
    "print(message)"
   ]
  },
  {
   "cell_type": "code",
   "execution_count": 3,
   "id": "4ceac7fa",
   "metadata": {},
   "outputs": [
    {
     "name": "stdout",
     "output_type": "stream",
     "text": [
      "Message 1: My name is Jasleen\n",
      "Message 2: I am 19 Years old\n"
     ]
    }
   ],
   "source": [
    "# Question 1.2 One Variable, Two Messages\n",
    "\n",
    "data = \"Message 1: My name is Jasleen\"\n",
    "print(data)\n",
    "data = \"Message 2: I am 19 Years old\"\n",
    "print(data)"
   ]
  },
  {
   "cell_type": "markdown",
   "id": "b91f878f",
   "metadata": {
    "slideshow": {
     "slide_type": "slide"
    }
   },
   "source": [
    "<a name='exercises_strings'></a>Exercises\n",
    "---\n",
    "#### Someone Said\n",
    "- Find a quote that you like. Store the quote in a variable, with an appropriate introduction such as \"Ken Thompson once said, 'One of my most productive days was throwing away 1000 lines of code'\". Print the quote.\n",
    "\n",
    "#### First Name Cases\n",
    "- Store your first name, in lowercase, in a variable.\n",
    "- Using that one variable, print your name in lowercase, Titlecase, and UPPERCASE.\n",
    "\n",
    "#### Full Name\n",
    "- Store your first name and last name in separate variables, and then combine them to print out your full name.\n",
    "\n",
    "#### About This Person\n",
    "- Choose a person you look up to. Store their first and last names in separate variables.\n",
    "- Use concatenation to make a sentence about this person, and store that sentence in a variable.-\n",
    "- Print the sentence.\n",
    "\n",
    "#### Name Strip\n",
    "- Store your first name in a variable, but include at least two kinds of whitespace on each side of your name.\n",
    "- Print your name as it is stored.\n",
    "- Print your name with whitespace stripped from the left side, then from the right side, then from both sides."
   ]
  },
  {
   "cell_type": "code",
   "execution_count": 10,
   "id": "0f503f04",
   "metadata": {},
   "outputs": [
    {
     "name": "stdout",
     "output_type": "stream",
     "text": [
      "Elon Musk once said, \"Some people don't like change, but you need to embrace change if the alternative is disaster.\"\n"
     ]
    }
   ],
   "source": [
    "# Question 1.3 Someone Said\n",
    "\n",
    "quote = \"{} \\\"Some people don't like change, but you need to embrace change if the alternative is disaster.\\\"\"\n",
    "print(quote.format('Elon Musk once said,'))"
   ]
  },
  {
   "cell_type": "code",
   "execution_count": 13,
   "id": "2c9c1e18",
   "metadata": {},
   "outputs": [
    {
     "name": "stdout",
     "output_type": "stream",
     "text": [
      "jasleen minhas\n",
      "JASLEEN MINHAS\n",
      "Jasleen Minhas\n"
     ]
    }
   ],
   "source": [
    "# Question 1.4 First Name Cases\n",
    "\n",
    "name= 'Jasleen minhas'\n",
    "\n",
    "print(name.lower())\n",
    "print(name.upper()) \n",
    "print(name.title()) "
   ]
  },
  {
   "cell_type": "code",
   "execution_count": 14,
   "id": "26d8baaa",
   "metadata": {},
   "outputs": [
    {
     "name": "stdout",
     "output_type": "stream",
     "text": [
      "Jasleen Minhas\n"
     ]
    }
   ],
   "source": [
    "# Question 1.5 Full Name\n",
    "\n",
    "firstname = \"Jasleen\"\n",
    "lastname = \"Minhas\"\n",
    "\n",
    "str = firstname+' '+ lastname\n",
    "print(str)"
   ]
  },
  {
   "cell_type": "code",
   "execution_count": 15,
   "id": "f0360614",
   "metadata": {},
   "outputs": [
    {
     "name": "stdout",
     "output_type": "stream",
     "text": [
      "APJ Abdul Kalam is a great legend\n"
     ]
    }
   ],
   "source": [
    "# Question 1.6 About This Person\n",
    "\n",
    "firstname = 'APJ Abdul'\n",
    "lastname = 'Kalam'\n",
    "snte = firstname + ' ' + lastname + ' ' + \"is a great legend\" \n",
    "print(snte)"
   ]
  },
  {
   "cell_type": "code",
   "execution_count": 5,
   "id": "e3781175",
   "metadata": {},
   "outputs": [
    {
     "name": "stdout",
     "output_type": "stream",
     "text": [
      "Original String -:\n",
      "     Jassi     .\n",
      "\n",
      "After left strip -:\n",
      "Jassi     .\n",
      "\n",
      "After right strip -:\n",
      "Jassi.\n"
     ]
    }
   ],
   "source": [
    "# Question 1.7 Name Strip\n",
    "\n",
    "name = \"     Jassi     \"\n",
    "print('Original String:')\n",
    "print(name+'.')\n",
    "name = name.lstrip()\n",
    "print('\\nAfter left strip:')\n",
    "print(name+'.')\n",
    "print('\\nAfter right strip:')\n",
    "name = name.rstrip()\n",
    "print(name+'.')"
   ]
  },
  {
   "cell_type": "markdown",
   "id": "e98b2f73",
   "metadata": {
    "slideshow": {
     "slide_type": "slide"
    }
   },
   "source": [
    "<a name='exercises_numbers'></a>Exercises\n",
    "---\n",
    "#### Arithmetic\n",
    "- Write a program that prints out the results of at least one calculation for each of the basic operations: addition, subtraction, multiplication, division, and exponents.\n",
    "\n",
    "#### Order of Operations\n",
    "- Find a calculation whose result depends on the order of operations.\n",
    "- Print the result of this calculation using the standard order of operations.\n",
    "- Use parentheses to force a nonstandard order of operations. Print the result of this calculation.\n",
    "\n",
    "#### Long Decimals\n",
    "- On paper, 0.1+0.2=0.3. But you have seen that in Python, 0.1+0.2=0.30000000000000004.\n",
    "- Find at least one other calculation that results in a long decimal like this."
   ]
  },
  {
   "cell_type": "code",
   "execution_count": 24,
   "id": "49fa1001",
   "metadata": {},
   "outputs": [
    {
     "name": "stdout",
     "output_type": "stream",
     "text": [
      "a**b =  8\n"
     ]
    }
   ],
   "source": [
    "# Question 1.8 Arithmetic\n",
    "\n",
    "a = 2\n",
    "b = 3\n",
    "ans = a**b\n",
    "print(\"a**b = \", ans)"
   ]
  },
  {
   "cell_type": "code",
   "execution_count": 22,
   "id": "8ddbe389",
   "metadata": {},
   "outputs": [
    {
     "name": "stdout",
     "output_type": "stream",
     "text": [
      "The result of the calculation of (3*4)+2 = 14\n"
     ]
    }
   ],
   "source": [
    "# Question 1.9 Order of Operations\n",
    "\n",
    "result = (3*4)+2\n",
    "print('The result of the calculation of (3*4)+2 =', result)"
   ]
  },
  {
   "cell_type": "code",
   "execution_count": 25,
   "id": "df1eb287",
   "metadata": {},
   "outputs": [
    {
     "name": "stdout",
     "output_type": "stream",
     "text": [
      "15.749999999999998\n"
     ]
    }
   ],
   "source": [
    "# Question 1.10 Long Decimals\n",
    "\n",
    "\n",
    "print(3.15/0.2)"
   ]
  },
  {
   "cell_type": "markdown",
   "id": "f5c13803",
   "metadata": {
    "slideshow": {
     "slide_type": "slide"
    }
   },
   "source": [
    "<a name='challenges_overall'></a>Overall Challenges\n",
    "===\n",
    "We have learned quite a bit so far about programming, but we haven't learned enough yet for you to go create something. In the next notebook, things will get much more interesting, and there will be a longer list of overall challenges.\n",
    "\n",
    "<blank>\n",
    "\n",
    "#### What I've Learned\n",
    "- Write a program that uses everything you have learned in this notebook at least once.\n",
    "- Write comments that label each section of your program.\n",
    "- For each thing your program does, write at least one line of output that explains what your program did.\n",
    "- For example, you might have one line that stores your name with some whitespace in a variable, and a second line that strips that whitespace from your name:"
   ]
  },
  {
   "cell_type": "code",
   "execution_count": 26,
   "id": "2a656940",
   "metadata": {},
   "outputs": [
    {
     "name": "stdout",
     "output_type": "stream",
     "text": [
      "Hello-Guys\n",
      "I can strip tabs from my name: Jas\n"
     ]
    }
   ],
   "source": [
    "# Overall Challenge: What I've Learned\n",
    "\n",
    "# I have learnt how to store and print something in python\n",
    "message = \"Hello-Guys\"\n",
    "print(message)\n",
    "\n",
    "# I learnt how to strip whitespace from strings\n",
    "name = '      Jas'\n",
    "print(\"I can strip tabs from my name: \" + name.strip())"
   ]
  }
 ],
 "metadata": {
  "kernelspec": {
   "display_name": "Python 3",
   "language": "python",
   "name": "python3"
  },
  "language_info": {
   "codemirror_mode": {
    "name": "ipython",
    "version": 3
   },
   "file_extension": ".py",
   "mimetype": "text/x-python",
   "name": "python",
   "nbconvert_exporter": "python",
   "pygments_lexer": "ipython3",
   "version": "3.8.8"
  }
 },
 "nbformat": 4,
 "nbformat_minor": 5
}
