{
 "cells": [
  {
   "cell_type": "markdown",
   "id": "87f17443",
   "metadata": {
    "slideshow": {
     "slide_type": "skip"
    }
   },
   "source": [
    "<a name='exercises_while'></a>Exercises\n",
    "---\n",
    "#### Growing Strength\n",
    "- Make a variable called strength, and set its initial value to 5.\n",
    "- Print a message reporting the player's strength.\n",
    "- Set up a while loop that runs until the player's strength increases to a value such as 10.\n",
    "- Inside the while loop, print a message that reports the player's current strength.\n",
    "- Inside the while loop, write a statement that increases the player's strength.\n",
    "- Outside the while loop, print a message reporting that the player has grown too strong, and that they have moved up to a new level of the game.\n",
    "- Bonus: Play around with different cutoff levels for the value of *strength*, and play around with different ways to increase the strength value within the while loop."
   ]
  },
  {
   "cell_type": "code",
   "execution_count": 7,
   "id": "2ea350ee",
   "metadata": {},
   "outputs": [
    {
     "name": "stdout",
     "output_type": "stream",
     "text": [
      "Players Initial strength is:  5 \n",
      "\n",
      "Players Current strength is:  5\n",
      "Players Current strength is:  6\n",
      "Players Current strength is:  7\n",
      "Players Current strength is:  8\n",
      "Players Current strength is:  9\n",
      "Players Current strength is:  10\n",
      "\n",
      "Player has grown too strong, and that they have moved up to a new level of the game. \n"
     ]
    }
   ],
   "source": [
    "# Ques: 3.1 Growing Strength\n",
    "\n",
    "strength = 5\n",
    "print(\"Players Initial strength is: \", strength, '\\n')\n",
    "\n",
    "while(strength<=10):\n",
    "    print(\"Players Current strength is: \", strength)\n",
    "    strength = strength + 1\n",
    "\n",
    "print(\"\\nPlayer has grown too strong, and that they have moved up to a new level of the game. \")"
   ]
  },
  {
   "cell_type": "markdown",
   "id": "aff709bb",
   "metadata": {
    "slideshow": {
     "slide_type": "skip"
    }
   },
   "source": [
    "<a name='exercises_input'></a>Exercises\n",
    "---\n",
    "#### Game Preferences\n",
    "- Make a list that includes 3 or 4 games that you like to play.\n",
    "- Print a statement that tells the user what games you like.\n",
    "- Ask the user to tell you a game they like, and store the game in a variable such as `new_game`.\n",
    "- Add the user's game to your list.\n",
    "- Print a new statement that lists all of the games that we like to play (*we* means you and your user)."
   ]
  },
  {
   "cell_type": "code",
   "execution_count": 5,
   "id": "79efcc6b",
   "metadata": {},
   "outputs": [
    {
     "name": "stdout",
     "output_type": "stream",
     "text": [
      "My fav games are:  Pubg Ludo Chess \n",
      "\n",
      "Which game do you like: BGMI\n",
      "\n",
      "Our fav games are:  Pubg Ludo Chess BGMI "
     ]
    }
   ],
   "source": [
    "# Ques: 3.2 Game Preferences\n",
    "\n",
    "def games(lists):\n",
    "    for game in lists:\n",
    "        print(game, end=\" \")\n",
    "    \n",
    "favGames = ['Pubg','Ludo','Chess']\n",
    "print(\"My fav games are: \", end=\" \")\n",
    "games(favGames)\n",
    "\n",
    "new_game = input(\"\\n\\nWhich game do you like: \")\n",
    "favGames.append(new_game)\n",
    "print(\"\\nOur fav games are: \", end=\" \")\n",
    "games(favGames)"
   ]
  },
  {
   "cell_type": "markdown",
   "id": "49fe25c6",
   "metadata": {
    "slideshow": {
     "slide_type": "skip"
    }
   },
   "source": [
    "<a name='overall_challenges'></a>Overall Challenges\n",
    "===\n",
    "#### Gaussian Addition\n",
    "This challenge is inspired by a story about the mathematician Carl Frederich Gauss. [As the story goes](http://mathforum.org/library/drmath/view/57919.html), when young Gauss was in grade school his teacher got mad at his class one day.\n",
    "\n",
    "\"I'll keep the lot of you busy for a while\", the teacher said sternly to the group. \"You are to add the numbers from 1 to 100, and you are not to say a word until you are done.\"\n",
    "\n",
    "The teacher expected a good period of quiet time, but a moment later our mathematician-to-be raised his hand with the answer. \"It's 5050!\" Gauss had realized that if you list all the numbers from 1 to 100, you can always match the first and last numbers in the list and get a common answer:\n",
    "\n",
    "    1, 2, 3, ..., 98, 99, 100\n",
    "    1 + 100 = 101\n",
    "    2 + 99 = 101\n",
    "    3 + 98 = 101\n",
    "\n",
    "Gauss realized there were exactly 50 pairs of numbers in the range 1 to 100, so he did a quick calculation: 50 * 101 = 5050.\n",
    "\n",
    "- Write a program that passes a list of numbers to a function.\n",
    "    - The function should use a while loop to keep popping the first and last numbers from the list and calculate the sum of those two numbers.\n",
    "    - The function should print out the current numbers that are being added, and print their partial sum.\n",
    "    - The function should keep track of how many partial sums there are.\n",
    "    - The function should then print out how many partial sums there were.\n",
    "    - The function should perform Gauss' multiplication, and report the final answer.\n",
    "- Prove that your function works, by passing in the range 1-100, and verifying that you get 5050.\n",
    "    - `gauss_addition(list(range(1,101)))`\n",
    "- Your function should work for any set of consecutive numbers, as long as that set has an even length.\n",
    "    - Bonus: Modify your function so that it works for any set of consecutive numbers, whether that set has an even or odd length."
   ]
  },
  {
   "cell_type": "code",
   "execution_count": null,
   "id": "de010e18",
   "metadata": {},
   "outputs": [],
   "source": [
    "# Overall Challenge: Gaussian Addition\n",
    "\n"
   ]
  }
 ],
 "metadata": {
  "kernelspec": {
   "display_name": "Python 3",
   "language": "python",
   "name": "python3"
  },
  "language_info": {
   "codemirror_mode": {
    "name": "ipython",
    "version": 3
   },
   "file_extension": ".py",
   "mimetype": "text/x-python",
   "name": "python",
   "nbconvert_exporter": "python",
   "pygments_lexer": "ipython3",
   "version": "3.8.8"
  }
 },
 "nbformat": 4,
 "nbformat_minor": 5
}
