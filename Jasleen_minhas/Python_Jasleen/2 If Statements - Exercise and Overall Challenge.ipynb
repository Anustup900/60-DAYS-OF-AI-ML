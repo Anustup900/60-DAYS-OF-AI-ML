{
 "cells": [
  {
   "cell_type": "markdown",
   "id": "04cd6405",
   "metadata": {
    "slideshow": {
     "slide_type": "skip"
    }
   },
   "source": [
    "<a name='exercises_logical_tests'></a>Exercises\n",
    "---\n",
    "#### True and False\n",
    "- Write a program that consists of at least ten lines, each of which has a logical statement on it. The output of your program should be 5 **True**s and 5 **False**s.\n",
    "- Note: You will probably need to write `print(5 > 3)`, not just `5 > 3`."
   ]
  },
  {
   "cell_type": "code",
   "execution_count": 1,
   "id": "e4bfa114",
   "metadata": {},
   "outputs": [
    {
     "name": "stdout",
     "output_type": "stream",
     "text": [
      "True\n"
     ]
    }
   ],
   "source": [
    "print(7 != 3)"
   ]
  },
  {
   "cell_type": "code",
   "execution_count": 2,
   "id": "3baa98ed",
   "metadata": {},
   "outputs": [
    {
     "name": "stdout",
     "output_type": "stream",
     "text": [
      "False\n"
     ]
    }
   ],
   "source": [
    "print(7 == 3)"
   ]
  },
  {
   "cell_type": "code",
   "execution_count": 7,
   "id": "54a9398b",
   "metadata": {},
   "outputs": [
    {
     "name": "stdout",
     "output_type": "stream",
     "text": [
      "False\n"
     ]
    }
   ],
   "source": [
    "vowels = ['a', 'e', 'i', 'o', 'u']\n",
    "print('b' in vowels)"
   ]
  },
  {
   "cell_type": "code",
   "execution_count": 6,
   "id": "1a14270d",
   "metadata": {},
   "outputs": [
    {
     "name": "stdout",
     "output_type": "stream",
     "text": [
      "True\n"
     ]
    }
   ],
   "source": [
    "vowels = ['a', 'e', 'i', 'o', 'u']\n",
    "print('a' in vowels)"
   ]
  },
  {
   "cell_type": "code",
   "execution_count": 8,
   "id": "97e60d6d",
   "metadata": {},
   "outputs": [
    {
     "name": "stdout",
     "output_type": "stream",
     "text": [
      "True\n"
     ]
    }
   ],
   "source": [
    "print('Eric'.lower() == 'eric'.lower())"
   ]
  },
  {
   "cell_type": "markdown",
   "id": "6a68edeb",
   "metadata": {
    "slideshow": {
     "slide_type": "skip"
    }
   },
   "source": [
    "<a name='exercises_if-elif-else'></a>Exercises\n",
    "---\n",
    "#### Three is a Crowd\n",
    "- Make a list of names that includes at least four people.\n",
    "- Write an if test that prints a message about the room being crowded, if there are more than three people in your list.\n",
    "- Modify your list so that there are only two people in it. Use one of the methods for removing people from the list, don't just redefine the list.\n",
    "- Run your if test again. There should be no output this time, because there are less than three people in the list.\n",
    "- **Bonus:** Store your if test in a function called something like `crowd_test`.\n",
    "\n",
    "#### Three is a Crowd - Part 2\n",
    "- Save your program from *Three is a Crowd* under a new name.\n",
    "- Add an `else` statement to your if tests. If the `else` statement is run, have it print a message that the room is not very crowded.\n",
    "\n",
    "#### Six is a Mob\n",
    "- Save your program from *Three is a Crowd - Part 2* under a new name.\n",
    "- Add some names to your list, so that there are at least six people in the list.\n",
    "- Modify your tests so that\n",
    "    - If there are more than 5 people, a message is printed about there being a mob in the room.\n",
    "    - If there are 3-5 people, a message is printed about the room being crowded.\n",
    "    - If there are 1 or 2 people, a message is printed about the room not being crowded.\n",
    "    - If there are no people in the room, a message is printed abou the room being empty."
   ]
  },
  {
   "cell_type": "code",
   "execution_count": 28,
   "id": "879d4b62",
   "metadata": {},
   "outputs": [
    {
     "name": "stdout",
     "output_type": "stream",
     "text": [
      "Number of people in room are:  4\n",
      "Too Crowded\n",
      "\n",
      "Number of people in room are:  2\n"
     ]
    }
   ],
   "source": [
    "# Ques 2.2 Three is a Crowd\n",
    "\n",
    "def crowd_test(list):\n",
    "    l= len(list)\n",
    "    print(\"Number of people in room are: \",l)\n",
    "    if(len(list)>3):\n",
    "        print(\"Too Crowded\\n\")\n",
    "\n",
    "        \n",
    "people = ['Jasleen','Simar','Sparsh','Rudra']\n",
    "crowd_test(people)\n",
    "\n",
    "people.remove('Sparsh')\n",
    "people.remove('Rudra')\n",
    "crowd_test(people)\n"
   ]
  },
  {
   "cell_type": "code",
   "execution_count": 29,
   "id": "09a0e9b6",
   "metadata": {},
   "outputs": [
    {
     "name": "stdout",
     "output_type": "stream",
     "text": [
      "Number of people in room are:  4\n",
      "Too Crowded\n",
      "\n",
      "Number of people in room are:  2\n",
      "The room is not very crowded\n",
      "\n"
     ]
    }
   ],
   "source": [
    "# Ques 2.3 Three is a Crowd- part 2\n",
    "\n",
    "def crowd_test(list):\n",
    "    l= len(list)\n",
    "    print(\"Number of people in room are: \",l)\n",
    "    if(len(list)>3):\n",
    "        print(\"Too Crowded\\n\")\n",
    "    else:\n",
    "        print(\"The room is not very crowded\\n\")\n",
    "\n",
    "        \n",
    "people = ['Jasleen','Simar','Sparsh','Rudra']\n",
    "crowd_test(people)\n",
    "\n",
    "people.remove('Sparsh')\n",
    "people.remove('Rudra')\n",
    "crowd_test(people)"
   ]
  },
  {
   "cell_type": "code",
   "execution_count": 26,
   "id": "9de1dcc1",
   "metadata": {},
   "outputs": [
    {
     "name": "stdout",
     "output_type": "stream",
     "text": [
      "Number of people in room are:  6\n",
      "A mob in the room\n",
      "\n",
      "Number of people in room are:  4\n",
      "The room is very crowded\n",
      "\n",
      "Number of people in room are:  2\n",
      "The room is not very crowded\n",
      "\n",
      "Number of people in room are:  0\n",
      "The room is empty\n",
      "\n"
     ]
    }
   ],
   "source": [
    "# Ques 2.4 Six is a Mob\n",
    "\n",
    "def crowd_test(list):\n",
    "    l= len(list)\n",
    "    print(\"Number of people in room are: \",l)\n",
    "    if(l>5):\n",
    "        print(\"A mob in the room\\n\")\n",
    "    elif(l<=5 and l>=3):\n",
    "        print(\"The room is very crowded\\n\")\n",
    "    elif(l==1 or l==2):\n",
    "        print(\"The room is not very crowded\\n\")\n",
    "    else:\n",
    "        print(\"The room is empty\\n\")\n",
    "\n",
    "        \n",
    "people = ['Jasleen','Simar','Kamal','Indu','Sparsh','Rudra']\n",
    "crowd_test(people)\n",
    "\n",
    "people.remove('Sparsh')\n",
    "people.remove('Rudra')\n",
    "crowd_test(people)\n",
    "\n",
    "\n",
    "people.remove('Kamal')\n",
    "people.remove('Simar')\n",
    "crowd_test(people)\n",
    "\n",
    "people.remove('Jasleen')\n",
    "people.remove('Indu')\n",
    "crowd_test(people)"
   ]
  },
  {
   "cell_type": "markdown",
   "id": "1e9b52ab",
   "metadata": {
    "slideshow": {
     "slide_type": "skip"
    }
   },
   "source": [
    "<a name='overall_challenges'></a>Overall Challenges\n",
    "===\n",
    "#### Alien Points\n",
    "- Make a list of ten aliens, each of which is one color: 'red', 'green', or 'blue'.\n",
    "    - You can shorten this to 'r', 'g', and 'b' if you want, but if you choose this option you have to include a comment explaining what r, g, and b stand for.\n",
    "- Red aliens are worth 5 points, green aliens are worth 10 points, and blue aliens are worth 20 points.\n",
    "- Use a for loop to determine the number of points a player would earn for destroying all of the aliens in your list.\n"
   ]
  },
  {
   "cell_type": "code",
   "execution_count": 33,
   "id": "875f3cf3",
   "metadata": {},
   "outputs": [
    {
     "name": "stdout",
     "output_type": "stream",
     "text": [
      "The number of points are  80\n"
     ]
    }
   ],
   "source": [
    "# Overall Challenge: Alien Points\n",
    "\n",
    "# r stands for red\n",
    "# b stands for blue\n",
    "# g stands for green\n",
    "aliens = ['r','g','b','r','r','b','g','b','g','r']\n",
    "curPoints = 0\n",
    "\n",
    "for al in aliens:\n",
    "    if(al=='r'):\n",
    "        pt = 5\n",
    "    elif(al=='g'):\n",
    "        pt = 10\n",
    "    elif(al=='b'):\n",
    "        pt = 10\n",
    "    curPoints = curPoints + pt\n",
    "    \n",
    "print(\"The number of points are \", curPoints )\n",
    "    "
   ]
  }
 ],
 "metadata": {
  "kernelspec": {
   "display_name": "Python 3",
   "language": "python",
   "name": "python3"
  },
  "language_info": {
   "codemirror_mode": {
    "name": "ipython",
    "version": 3
   },
   "file_extension": ".py",
   "mimetype": "text/x-python",
   "name": "python",
   "nbconvert_exporter": "python",
   "pygments_lexer": "ipython3",
   "version": "3.8.8"
  }
 },
 "nbformat": 4,
 "nbformat_minor": 5
}
