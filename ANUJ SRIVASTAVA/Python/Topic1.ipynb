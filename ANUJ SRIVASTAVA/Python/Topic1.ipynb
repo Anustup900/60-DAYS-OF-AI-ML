{
  "nbformat": 4,
  "nbformat_minor": 0,
  "metadata": {
    "colab": {
      "name": "Topic1.ipynb",
      "provenance": [],
      "collapsed_sections": []
    },
    "kernelspec": {
      "name": "python3",
      "display_name": "Python 3"
    },
    "language_info": {
      "name": "python"
    }
  },
  "cells": [
    {
      "cell_type": "code",
      "metadata": {
        "id": "CzkWOjrEgw_i"
      },
      "source": [
        ""
      ],
      "execution_count": null,
      "outputs": []
    },
    {
      "cell_type": "markdown",
      "metadata": {
        "id": "U9vT-PTdhExv"
      },
      "source": [
        "# **Exercises**\n",
        "**Variables**\n",
        "\n",
        "\n",
        "\n",
        "*   Store your own version of the message \"Hello World\" in a variable, and print it.\n",
        "\n",
        "\n",
        "\n",
        "\n",
        "\n",
        "\n",
        "\n",
        "\n",
        "\n"
      ]
    },
    {
      "cell_type": "code",
      "metadata": {
        "colab": {
          "base_uri": "https://localhost:8080/"
        },
        "id": "w4vtHCbOhikE",
        "outputId": "0fd4626f-b92f-4104-a12b-a5d454e5ca48"
      },
      "source": [
        "message=\"hello anuj\"\n",
        "print(message)"
      ],
      "execution_count": null,
      "outputs": [
        {
          "output_type": "stream",
          "text": [
            "hello anuj\n"
          ],
          "name": "stdout"
        }
      ]
    },
    {
      "cell_type": "markdown",
      "metadata": {
        "id": "ivm1ZD99iW8e"
      },
      "source": [
        "**One Variable, Two Messages:**\n",
        "* Store a message in a variable, and then print that message.\n",
        "* Store a new message in the same variable, and then print that new message.\n",
        "\n",
        "\n",
        "\n"
      ]
    },
    {
      "cell_type": "code",
      "metadata": {
        "colab": {
          "base_uri": "https://localhost:8080/"
        },
        "id": "LMwkN1DFittG",
        "outputId": "ccf41ece-548f-4b0c-ace7-cc689869b5e7"
      },
      "source": [
        "message=\"hello anuj\"\n",
        "print(message)\n",
        "\n",
        "message=\"hello aditya\"\n",
        "print(message)"
      ],
      "execution_count": null,
      "outputs": [
        {
          "output_type": "stream",
          "text": [
            "hello anuj\n",
            "hello aditya\n"
          ],
          "name": "stdout"
        }
      ]
    },
    {
      "cell_type": "markdown",
      "metadata": {
        "id": "utRJ2BZCjOEK"
      },
      "source": [
        "# **Strings**\n",
        "\n",
        "**Someone Said**\n",
        "\n",
        "* Find a quote that you like. Store the quote in a variable, with an appropriate introduction such as \"Ken Thompson once said, 'One of my most productive days was throwing away 1000 lines of code'\". Print the quote."
      ]
    },
    {
      "cell_type": "code",
      "metadata": {
        "colab": {
          "base_uri": "https://localhost:8080/"
        },
        "id": "x1CF1GTqjsZm",
        "outputId": "3c740b1a-6299-4391-a67b-97d437b649ab"
      },
      "source": [
        "author=\"Joe Kennedy\"\n",
        "quote=\"When the going gets tough, the tough get going.\"\n",
        "\n",
        "print(author + \" once said,\" +\"\\'\"+quote+\"\\'\")"
      ],
      "execution_count": null,
      "outputs": [
        {
          "output_type": "stream",
          "text": [
            "Joe Kennedy once said,'When the going gets tough, the tough get going.'\n"
          ],
          "name": "stdout"
        }
      ]
    },
    {
      "cell_type": "markdown",
      "metadata": {
        "id": "P-SnhH_SlMcU"
      },
      "source": [
        "**First Name Cases**\n",
        "* Store your first name, in lowercase, in a variable.\n",
        "* Using that one variable, print your name in lowercase, Titlecase, and UPPERCASE"
      ]
    },
    {
      "cell_type": "code",
      "metadata": {
        "colab": {
          "base_uri": "https://localhost:8080/"
        },
        "id": "CYT2B4QTl3pg",
        "outputId": "f1902764-df3a-4c11-b3f9-1274a6a861e8"
      },
      "source": [
        "name=\"anuj\"\n",
        "\n",
        "print(name)\n",
        "print(name.title())\n",
        "print(name.upper())"
      ],
      "execution_count": null,
      "outputs": [
        {
          "output_type": "stream",
          "text": [
            "anuj\n",
            "Anuj\n",
            "ANUJ\n"
          ],
          "name": "stdout"
        }
      ]
    },
    {
      "cell_type": "markdown",
      "metadata": {
        "id": "Ws12oSHciha4"
      },
      "source": [
        "**Full Name**\n",
        "* Store your first name and last name in separate variables, and then combine them to print out your full name."
      ]
    },
    {
      "cell_type": "code",
      "metadata": {
        "colab": {
          "base_uri": "https://localhost:8080/"
        },
        "id": "UiqMM87mm-_l",
        "outputId": "035e4679-d7ac-4ec6-cd0f-bd049afb97e4"
      },
      "source": [
        "#method-1\n",
        "firstname=\"Anuj\"\n",
        "lastname=\"Srivastava\"\n",
        "fullname=firstname+\" \"+lastname\n",
        "print(\"Name:\"+fullname)\n",
        "\n",
        "#method-2\n",
        "firstname=\"Anuj\"\n",
        "lastname=\"Srivastava\"\n",
        "fullname=firstname+\" \"+lastname\n",
        "print(f\"Name:{fullname}\")\n",
        "\n",
        "#method-3\n",
        "firstname=\"Anuj\"\n",
        "lastname=\"Srivastava\"\n",
        "print(f\"Name:{firstname} {lastname}\")\n",
        "\n"
      ],
      "execution_count": null,
      "outputs": [
        {
          "output_type": "stream",
          "text": [
            "Name:Anuj Srivastava\n",
            "Name:Anuj Srivastava\n",
            "Name:Anuj Srivastava\n"
          ],
          "name": "stdout"
        }
      ]
    },
    {
      "cell_type": "markdown",
      "metadata": {
        "id": "Q9SWKRKfegNg"
      },
      "source": [
        "**About This Person**\n",
        "* Choose a person you look up to. Store their first and last names in separate variables.\n",
        "* Use concatenation to make a sentence about this person, and store that sentence in a variable.-\n",
        "* Print the sentence."
      ]
    },
    {
      "cell_type": "code",
      "metadata": {
        "colab": {
          "base_uri": "https://localhost:8080/"
        },
        "id": "Bh4PhTikeqTs",
        "outputId": "ffb91b49-a221-453a-9938-382bfba83cb4"
      },
      "source": [
        "firstname=\"Anuj\"\n",
        "lastname=\"Srivastava\"\n",
        "\n",
        "sentence= firstname+\" \"+lastname +\" is the student of Chandiagrh University\"\n",
        "\n",
        "print(sentence)"
      ],
      "execution_count": 1,
      "outputs": [
        {
          "output_type": "stream",
          "text": [
            "Anuj Srivastava is the student of Chandiagrh University\n"
          ],
          "name": "stdout"
        }
      ]
    },
    {
      "cell_type": "markdown",
      "metadata": {
        "id": "p3rCCM2ofZAW"
      },
      "source": [
        "**Name Strip**\n",
        "* Store your first name in a variable, but include at least two kinds of whitespace on each side of your name.\n",
        "* Print your name as it is stored.\n",
        "* Print your name with whitespace stripped from the left side, then from the right side, then from both sides."
      ]
    },
    {
      "cell_type": "code",
      "metadata": {
        "colab": {
          "base_uri": "https://localhost:8080/"
        },
        "id": "TVxXSenCfgPA",
        "outputId": "51d441b4-93a8-4224-cab0-dfda8f00e1e8"
      },
      "source": [
        "name=\" anuj \"\n",
        "\n",
        "print(name)\n",
        "\n",
        "print(name.lstrip())\n",
        "print(name.rstrip())\n",
        "print(name.strip())"
      ],
      "execution_count": 3,
      "outputs": [
        {
          "output_type": "stream",
          "text": [
            " anuj \n",
            "anuj \n",
            " anuj\n",
            "anuj\n"
          ],
          "name": "stdout"
        }
      ]
    },
    {
      "cell_type": "markdown",
      "metadata": {
        "id": "tE4I1sYXmEZU"
      },
      "source": [
        "# Numbers\n",
        "**Arithmetic**\n",
        "* Write a program that prints out the results of at least one calculation for each of the basic operations: addition, subtraction, multiplication, division, and exponents."
      ]
    },
    {
      "cell_type": "code",
      "metadata": {
        "colab": {
          "base_uri": "https://localhost:8080/"
        },
        "id": "WmG1obXzmMUa",
        "outputId": "df6e066b-3b9b-401a-8516-1781b7e54766"
      },
      "source": [
        "a: int=10\n",
        "b: int=20\n",
        "add:int=a+b\n",
        "diff: int=a-b\n",
        "multi: int=a*b\n",
        "div: int=b/a\n",
        "\n",
        "print(f\"a+b={add}\")\n",
        "print(f\"a-b={diff}\")\n",
        "print(f\"a*b={multi}\")\n",
        "print(f\"a/b={div}\")"
      ],
      "execution_count": 7,
      "outputs": [
        {
          "output_type": "stream",
          "text": [
            "a+b=30\n",
            "a-b=-10\n",
            "a*b=200\n",
            "a/b=2.0\n"
          ],
          "name": "stdout"
        }
      ]
    },
    {
      "cell_type": "markdown",
      "metadata": {
        "id": "AmPHLyAPoP-M"
      },
      "source": [
        "**Order of Operations**\n",
        "* Find a calculation whose result depends on the order of operations.\n",
        "* Print the result of this calculation using the standard order of operations.\n",
        "* Use parentheses to force a nonstandard order of operations. Print the result of this calculation."
      ]
    },
    {
      "cell_type": "code",
      "metadata": {
        "colab": {
          "base_uri": "https://localhost:8080/"
        },
        "id": "sPSt7UhGo5z6",
        "outputId": "42bc10e4-f369-483d-a66d-b7c75ac0e3c7"
      },
      "source": [
        "calculation=20 * 5 + 6\n",
        "print(calculation)\n",
        "\n",
        "calculation=20* (5+6)\n",
        "print(calculation)"
      ],
      "execution_count": 10,
      "outputs": [
        {
          "output_type": "stream",
          "text": [
            "106\n",
            "220\n"
          ],
          "name": "stdout"
        }
      ]
    },
    {
      "cell_type": "markdown",
      "metadata": {
        "id": "5XBmsIM9pO6E"
      },
      "source": [
        "**Long Decimals**\n",
        "* On paper, 0.1+0.2=0.3. But you have seen that in Python, 0.1+0.2=0.30000000000000004.\n",
        "* Find at least one other calculation that results in a long decimal like this."
      ]
    },
    {
      "cell_type": "code",
      "metadata": {
        "colab": {
          "base_uri": "https://localhost:8080/"
        },
        "id": "Tfx7EJF5pWEF",
        "outputId": "e54bd1d0-4dba-41c8-be24-0559b75c1b2d"
      },
      "source": [
        "print(f\"0.1+0.2={0.1+0.2}\")\n",
        "\n",
        "print(f\"0.7+0.2={0.2+0.7}\")"
      ],
      "execution_count": 21,
      "outputs": [
        {
          "output_type": "stream",
          "text": [
            "0.1+0.2=0.30000000000000004\n",
            "0.7+0.2=0.8999999999999999\n"
          ],
          "name": "stdout"
        }
      ]
    },
    {
      "cell_type": "markdown",
      "metadata": {
        "id": "EbQdnOzHrWkf"
      },
      "source": [
        "**Neat Arithmetic (Challenge)**\n",
        "* Store the results of at least 5 different calculations in separate variables. Make sure you use each operation at least once.\n",
        "* Print a series of informative statements, such as \"The result of the calculation 5+7 is 12.\""
      ]
    },
    {
      "cell_type": "code",
      "metadata": {
        "colab": {
          "base_uri": "https://localhost:8080/"
        },
        "id": "0hCGjhWWrXC0",
        "outputId": "b6c18f29-c1cf-43b4-f877-af6e6d95ee8e"
      },
      "source": [
        "a: int = 10\n",
        "b: int = 8\n",
        "\n",
        "add: int = a + b\n",
        "diff: int = a - b\n",
        "mul: int = a * b\n",
        "div: float = a / b \n",
        "intDiv: int = a // b\n",
        "    \n",
        "print(f\"The sum of a & b: a + b = {add}\")\n",
        "print(f\"The difference of a & b: a - b = {diff}\")\n",
        "print(f\"The multiplication of a & b: a / b = {mul}\")\n",
        "print(f\"The float division of a & b: a / b = {div}\")\n",
        "print(f\"The int division of a & b: a // b = {intDiv}\")"
      ],
      "execution_count": 22,
      "outputs": [
        {
          "output_type": "stream",
          "text": [
            "The sum of a & b: a + b = 18\n",
            "The difference of a & b: a - b = 2\n",
            "The multiplication of a & b: a / b = 80\n",
            "The float division of a & b: a / b = 1.25\n",
            "The int division of a & b: a // b = 1\n"
          ],
          "name": "stdout"
        }
      ]
    },
    {
      "cell_type": "markdown",
      "metadata": {
        "id": "TktEMObHrpWR"
      },
      "source": [
        "**Neat Order of Operations (Challenge)**\n",
        "* Take your work for \"Order of Operations\" above.\n",
        "* Instead of just printing the results, print an informative summary of the results. Show each calculation that is being done and the result of that calculation. Explain how you modified the result using parentheses."
      ]
    },
    {
      "cell_type": "code",
      "metadata": {
        "colab": {
          "base_uri": "https://localhost:8080/"
        },
        "id": "7lmU2vynsO0X",
        "outputId": "d66e885d-c0f5-4398-ca09-8679f543ef48"
      },
      "source": [
        "calculation = 10 * 5 + 6\n",
        "print(f\"10 * 5 + 6 = {calculation}\")\n",
        "print(\"-> As python follows the PEDMAS rule, it calculates multiplication before addition, which means that it'll first multiply 10 and 5, and then add 6 to it\", end=\"\\n\\n\")\n",
        "\n",
        "calculation = 10 * (5 + 6)\n",
        "print(f\"10 * (5 + 6) = {calculation}\")\n",
        "print(\"-> The parentheses will be solved first, which means the sum of 5 and 6 will be calculated and then it'll be multiplied to 10, which results in a different result than the first one\")"
      ],
      "execution_count": 23,
      "outputs": [
        {
          "output_type": "stream",
          "text": [
            "10 * 5 + 6 = 56\n",
            "-> As python follows the PEDMAS rule, it calculates multiplication before addition, which means that it'll first multiply 10 and 5, and then add 6 to it\n",
            "\n",
            "10 * (5 + 6) = 110\n",
            "-> The parentheses will be solved first, which means the sum of 5 and 6 will be calculated and then it'll be multiplied to 10, which results in a different result than the first one\n"
          ],
          "name": "stdout"
        }
      ]
    },
    {
      "cell_type": "markdown",
      "metadata": {
        "id": "5bBbOZFBs1Ln"
      },
      "source": [
        "#Comments\n",
        "**First Comments**\n",
        "* Choose the longest, most difficult, or most interesting program you have written so far. Write at least one comment in your program."
      ]
    },
    {
      "cell_type": "code",
      "metadata": {
        "colab": {
          "base_uri": "https://localhost:8080/"
        },
        "id": "MQ3a_E35uUiX",
        "outputId": "2c91272b-53e3-4b6e-de9d-da72a85a5ef5"
      },
      "source": [
        "a: int = 10 #initialize the value of a\n",
        "b: int = 8  #initialize the value of b\n",
        "\n",
        "#stored the value of opertation in anoher variables\n",
        "\n",
        "add: int = a + b \n",
        "diff: int = a - b\n",
        "mul: int = a * b\n",
        "div: float = a / b \n",
        "intDiv: int = a // b\n",
        "\n",
        "#print the operations\n",
        "    \n",
        "print(f\"The sum of a & b: a + b = {add}\")\n",
        "print(f\"The difference of a & b: a - b = {diff}\")\n",
        "print(f\"The multiplication of a & b: a / b = {mul}\")\n",
        "print(f\"The float division of a & b: a / b = {div}\")\n",
        "print(f\"The int division of a & b: a // b = {intDiv}\")"
      ],
      "execution_count": 24,
      "outputs": [
        {
          "output_type": "stream",
          "text": [
            "The sum of a & b: a + b = 18\n",
            "The difference of a & b: a - b = 2\n",
            "The multiplication of a & b: a / b = 80\n",
            "The float division of a & b: a / b = 1.25\n",
            "The int division of a & b: a // b = 1\n"
          ],
          "name": "stdout"
        }
      ]
    },
    {
      "cell_type": "markdown",
      "metadata": {
        "id": "UKN8l8gyuy5d"
      },
      "source": [
        "#Overall Challenges\n",
        "* Write a program that uses everything you have learned in this notebook at least once.\n",
        "* Write comments that label each section of your program.\n",
        "* For each thing your program does, write at least one line of output that explains what your program did.\n",
        "* For example, you might have one line that stores your name with some whitespace in a variable, and a second line that strips that whitespace from your name:#"
      ]
    },
    {
      "cell_type": "code",
      "metadata": {
        "colab": {
          "base_uri": "https://localhost:8080/"
        },
        "id": "hEz8-mF6u-q7",
        "outputId": "3fa2efca-700f-45d1-b908-7b7ee4062dae"
      },
      "source": [
        "firstname=\" anuj \"\n",
        "lastname=\"srivastava\"\n",
        "salary:int=10000\n",
        "expense:int=5000\n",
        "\n",
        "#store the value in diff variable\n",
        "saving=salary-expense\n",
        "print(firstname.title().rstrip()+ \" \"+lastname.title())\n",
        "print(f\"Total Saving: {saving}\")"
      ],
      "execution_count": 27,
      "outputs": [
        {
          "output_type": "stream",
          "text": [
            " Anuj Srivastava\n",
            "Total Saving: 5000\n"
          ],
          "name": "stdout"
        }
      ]
    }
  ]
}