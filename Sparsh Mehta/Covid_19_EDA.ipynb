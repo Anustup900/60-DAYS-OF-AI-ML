{
  "nbformat": 4,
  "nbformat_minor": 0,
  "metadata": {
    "colab": {
      "name": "Covid 19 EDA.ipynb",
      "provenance": [],
      "collapsed_sections": []
    },
    "kernelspec": {
      "name": "python3",
      "display_name": "Python 3"
    },
    "language_info": {
      "name": "python"
    }
  },
  "cells": [
    {
      "cell_type": "code",
      "metadata": {
        "id": "l_wOYn5wsDmr"
      },
      "source": [
        "import pandas as pd # pandas help in reading of the data and management of data\n",
        "import numpy as np #mathematical computation\n",
        "import matplotlib.pyplot as plt #Used for Plotting of data\n",
        "import seaborn as sns "
      ],
      "execution_count": 19,
      "outputs": []
    },
    {
      "cell_type": "code",
      "metadata": {
        "id": "Fg6f3tD-sVyw"
      },
      "source": [
        "df = pd.read_csv(\"/content/covid_vaccine_statewise.csv\") #To read a csv file"
      ],
      "execution_count": 3,
      "outputs": []
    },
    {
      "cell_type": "code",
      "metadata": {
        "colab": {
          "base_uri": "https://localhost:8080/",
          "height": 257
        },
        "id": "CwdJsVgWsw13",
        "outputId": "cb9647fe-2397-4933-d6ab-94110727844f"
      },
      "source": [
        "df.head() #Head of the csv file i.e. first five elements "
      ],
      "execution_count": 4,
      "outputs": [
        {
          "output_type": "execute_result",
          "data": {
            "text/html": [
              "<div>\n",
              "<style scoped>\n",
              "    .dataframe tbody tr th:only-of-type {\n",
              "        vertical-align: middle;\n",
              "    }\n",
              "\n",
              "    .dataframe tbody tr th {\n",
              "        vertical-align: top;\n",
              "    }\n",
              "\n",
              "    .dataframe thead th {\n",
              "        text-align: right;\n",
              "    }\n",
              "</style>\n",
              "<table border=\"1\" class=\"dataframe\">\n",
              "  <thead>\n",
              "    <tr style=\"text-align: right;\">\n",
              "      <th></th>\n",
              "      <th>Updated On</th>\n",
              "      <th>State</th>\n",
              "      <th>Total Doses Administered</th>\n",
              "      <th>Total Sessions Conducted</th>\n",
              "      <th>Total Sites</th>\n",
              "      <th>First Dose Administered</th>\n",
              "      <th>Second Dose Administered</th>\n",
              "      <th>Male(Individuals Vaccinated)</th>\n",
              "      <th>Female(Individuals Vaccinated)</th>\n",
              "      <th>Transgender(Individuals Vaccinated)</th>\n",
              "      <th>Total Covaxin Administered</th>\n",
              "      <th>Total CoviShield Administered</th>\n",
              "      <th>Total Sputnik V Administered</th>\n",
              "      <th>AEFI</th>\n",
              "      <th>18-45 years (Age)</th>\n",
              "      <th>45-60 years (Age)</th>\n",
              "      <th>60+ years (Age)</th>\n",
              "      <th>Total Individuals Vaccinated</th>\n",
              "    </tr>\n",
              "  </thead>\n",
              "  <tbody>\n",
              "    <tr>\n",
              "      <th>0</th>\n",
              "      <td>16/01/2021</td>\n",
              "      <td>India</td>\n",
              "      <td>48276.0</td>\n",
              "      <td>3455.0</td>\n",
              "      <td>2957.0</td>\n",
              "      <td>48276.0</td>\n",
              "      <td>0.0</td>\n",
              "      <td>23757.0</td>\n",
              "      <td>24517.0</td>\n",
              "      <td>2.0</td>\n",
              "      <td>579.0</td>\n",
              "      <td>47697.0</td>\n",
              "      <td>NaN</td>\n",
              "      <td>NaN</td>\n",
              "      <td>NaN</td>\n",
              "      <td>NaN</td>\n",
              "      <td>NaN</td>\n",
              "      <td>48276.0</td>\n",
              "    </tr>\n",
              "    <tr>\n",
              "      <th>1</th>\n",
              "      <td>17/01/2021</td>\n",
              "      <td>India</td>\n",
              "      <td>58604.0</td>\n",
              "      <td>8532.0</td>\n",
              "      <td>4954.0</td>\n",
              "      <td>58604.0</td>\n",
              "      <td>0.0</td>\n",
              "      <td>27348.0</td>\n",
              "      <td>31252.0</td>\n",
              "      <td>4.0</td>\n",
              "      <td>635.0</td>\n",
              "      <td>57969.0</td>\n",
              "      <td>NaN</td>\n",
              "      <td>NaN</td>\n",
              "      <td>NaN</td>\n",
              "      <td>NaN</td>\n",
              "      <td>NaN</td>\n",
              "      <td>58604.0</td>\n",
              "    </tr>\n",
              "    <tr>\n",
              "      <th>2</th>\n",
              "      <td>18/01/2021</td>\n",
              "      <td>India</td>\n",
              "      <td>99449.0</td>\n",
              "      <td>13611.0</td>\n",
              "      <td>6583.0</td>\n",
              "      <td>99449.0</td>\n",
              "      <td>0.0</td>\n",
              "      <td>41361.0</td>\n",
              "      <td>58083.0</td>\n",
              "      <td>5.0</td>\n",
              "      <td>1299.0</td>\n",
              "      <td>98150.0</td>\n",
              "      <td>NaN</td>\n",
              "      <td>NaN</td>\n",
              "      <td>NaN</td>\n",
              "      <td>NaN</td>\n",
              "      <td>NaN</td>\n",
              "      <td>99449.0</td>\n",
              "    </tr>\n",
              "    <tr>\n",
              "      <th>3</th>\n",
              "      <td>19/01/2021</td>\n",
              "      <td>India</td>\n",
              "      <td>195525.0</td>\n",
              "      <td>17855.0</td>\n",
              "      <td>7951.0</td>\n",
              "      <td>195525.0</td>\n",
              "      <td>0.0</td>\n",
              "      <td>81901.0</td>\n",
              "      <td>113613.0</td>\n",
              "      <td>11.0</td>\n",
              "      <td>3017.0</td>\n",
              "      <td>192508.0</td>\n",
              "      <td>NaN</td>\n",
              "      <td>NaN</td>\n",
              "      <td>NaN</td>\n",
              "      <td>NaN</td>\n",
              "      <td>NaN</td>\n",
              "      <td>195525.0</td>\n",
              "    </tr>\n",
              "    <tr>\n",
              "      <th>4</th>\n",
              "      <td>20/01/2021</td>\n",
              "      <td>India</td>\n",
              "      <td>251280.0</td>\n",
              "      <td>25472.0</td>\n",
              "      <td>10504.0</td>\n",
              "      <td>251280.0</td>\n",
              "      <td>0.0</td>\n",
              "      <td>98111.0</td>\n",
              "      <td>153145.0</td>\n",
              "      <td>24.0</td>\n",
              "      <td>3946.0</td>\n",
              "      <td>247334.0</td>\n",
              "      <td>NaN</td>\n",
              "      <td>NaN</td>\n",
              "      <td>NaN</td>\n",
              "      <td>NaN</td>\n",
              "      <td>NaN</td>\n",
              "      <td>251280.0</td>\n",
              "    </tr>\n",
              "  </tbody>\n",
              "</table>\n",
              "</div>"
            ],
            "text/plain": [
              "   Updated On  State  ...  60+ years (Age)  Total Individuals Vaccinated\n",
              "0  16/01/2021  India  ...              NaN                       48276.0\n",
              "1  17/01/2021  India  ...              NaN                       58604.0\n",
              "2  18/01/2021  India  ...              NaN                       99449.0\n",
              "3  19/01/2021  India  ...              NaN                      195525.0\n",
              "4  20/01/2021  India  ...              NaN                      251280.0\n",
              "\n",
              "[5 rows x 18 columns]"
            ]
          },
          "metadata": {
            "tags": []
          },
          "execution_count": 4
        }
      ]
    },
    {
      "cell_type": "code",
      "metadata": {
        "colab": {
          "base_uri": "https://localhost:8080/"
        },
        "id": "5hAHjeNIs16Y",
        "outputId": "8f1d5d1f-ca0b-4945-af6c-eea06c04657d"
      },
      "source": [
        "df.shape #It shows no. of rows and columns present"
      ],
      "execution_count": 5,
      "outputs": [
        {
          "output_type": "execute_result",
          "data": {
            "text/plain": [
              "(6699, 18)"
            ]
          },
          "metadata": {
            "tags": []
          },
          "execution_count": 5
        }
      ]
    },
    {
      "cell_type": "code",
      "metadata": {
        "colab": {
          "base_uri": "https://localhost:8080/"
        },
        "id": "xYUkVduWs7l2",
        "outputId": "781815c2-2fbc-46b5-bc57-18556597bc26"
      },
      "source": [
        "df.dtypes #It shows the data types present in the whole data"
      ],
      "execution_count": 6,
      "outputs": [
        {
          "output_type": "execute_result",
          "data": {
            "text/plain": [
              "Updated On                              object\n",
              "State                                   object\n",
              "Total Doses Administered               float64\n",
              "Total Sessions Conducted               float64\n",
              "Total Sites                            float64\n",
              "First Dose Administered                float64\n",
              "Second Dose Administered               float64\n",
              "Male(Individuals Vaccinated)           float64\n",
              "Female(Individuals Vaccinated)         float64\n",
              "Transgender(Individuals Vaccinated)    float64\n",
              "Total Covaxin Administered             float64\n",
              "Total CoviShield Administered          float64\n",
              "Total Sputnik V Administered           float64\n",
              "AEFI                                   float64\n",
              "18-45 years (Age)                      float64\n",
              "45-60 years (Age)                      float64\n",
              "60+ years (Age)                        float64\n",
              "Total Individuals Vaccinated           float64\n",
              "dtype: object"
            ]
          },
          "metadata": {
            "tags": []
          },
          "execution_count": 6
        }
      ]
    },
    {
      "cell_type": "code",
      "metadata": {
        "id": "x8ik2xmQs_xP"
      },
      "source": [
        "df = df.drop([\"Total Sputnik V Administered\",\"AEFI\",\"18-45 years (Age)\",\"45-60 years (Age)\",\"60+ years (Age)\"],axis=1) #It is used to drop unnecessary data present in csv file"
      ],
      "execution_count": 7,
      "outputs": []
    },
    {
      "cell_type": "code",
      "metadata": {
        "colab": {
          "base_uri": "https://localhost:8080/"
        },
        "id": "Q_DrQCm_vHvG",
        "outputId": "4ad9f6d3-3c70-47a3-f7af-03f1f8ac5fae"
      },
      "source": [
        "df.count() #The no. of rows present in that file"
      ],
      "execution_count": 8,
      "outputs": [
        {
          "output_type": "execute_result",
          "data": {
            "text/plain": [
              "Updated On                             6699\n",
              "State                                  6699\n",
              "Total Doses Administered               6364\n",
              "Total Sessions Conducted               6363\n",
              "Total Sites                            6363\n",
              "First Dose Administered                6363\n",
              "Second Dose Administered               6363\n",
              "Male(Individuals Vaccinated)           6363\n",
              "Female(Individuals Vaccinated)         6363\n",
              "Transgender(Individuals Vaccinated)    6363\n",
              "Total Covaxin Administered             6363\n",
              "Total CoviShield Administered          6363\n",
              "Total Individuals Vaccinated           6363\n",
              "dtype: int64"
            ]
          },
          "metadata": {
            "tags": []
          },
          "execution_count": 8
        }
      ]
    },
    {
      "cell_type": "code",
      "metadata": {
        "colab": {
          "base_uri": "https://localhost:8080/",
          "height": 257
        },
        "id": "oO9IjDYFtxT_",
        "outputId": "032df662-45c6-4f4a-d9db-62744ff3df8c"
      },
      "source": [
        "df.head() "
      ],
      "execution_count": 9,
      "outputs": [
        {
          "output_type": "execute_result",
          "data": {
            "text/html": [
              "<div>\n",
              "<style scoped>\n",
              "    .dataframe tbody tr th:only-of-type {\n",
              "        vertical-align: middle;\n",
              "    }\n",
              "\n",
              "    .dataframe tbody tr th {\n",
              "        vertical-align: top;\n",
              "    }\n",
              "\n",
              "    .dataframe thead th {\n",
              "        text-align: right;\n",
              "    }\n",
              "</style>\n",
              "<table border=\"1\" class=\"dataframe\">\n",
              "  <thead>\n",
              "    <tr style=\"text-align: right;\">\n",
              "      <th></th>\n",
              "      <th>Updated On</th>\n",
              "      <th>State</th>\n",
              "      <th>Total Doses Administered</th>\n",
              "      <th>Total Sessions Conducted</th>\n",
              "      <th>Total Sites</th>\n",
              "      <th>First Dose Administered</th>\n",
              "      <th>Second Dose Administered</th>\n",
              "      <th>Male(Individuals Vaccinated)</th>\n",
              "      <th>Female(Individuals Vaccinated)</th>\n",
              "      <th>Transgender(Individuals Vaccinated)</th>\n",
              "      <th>Total Covaxin Administered</th>\n",
              "      <th>Total CoviShield Administered</th>\n",
              "      <th>Total Individuals Vaccinated</th>\n",
              "    </tr>\n",
              "  </thead>\n",
              "  <tbody>\n",
              "    <tr>\n",
              "      <th>0</th>\n",
              "      <td>16/01/2021</td>\n",
              "      <td>India</td>\n",
              "      <td>48276.0</td>\n",
              "      <td>3455.0</td>\n",
              "      <td>2957.0</td>\n",
              "      <td>48276.0</td>\n",
              "      <td>0.0</td>\n",
              "      <td>23757.0</td>\n",
              "      <td>24517.0</td>\n",
              "      <td>2.0</td>\n",
              "      <td>579.0</td>\n",
              "      <td>47697.0</td>\n",
              "      <td>48276.0</td>\n",
              "    </tr>\n",
              "    <tr>\n",
              "      <th>1</th>\n",
              "      <td>17/01/2021</td>\n",
              "      <td>India</td>\n",
              "      <td>58604.0</td>\n",
              "      <td>8532.0</td>\n",
              "      <td>4954.0</td>\n",
              "      <td>58604.0</td>\n",
              "      <td>0.0</td>\n",
              "      <td>27348.0</td>\n",
              "      <td>31252.0</td>\n",
              "      <td>4.0</td>\n",
              "      <td>635.0</td>\n",
              "      <td>57969.0</td>\n",
              "      <td>58604.0</td>\n",
              "    </tr>\n",
              "    <tr>\n",
              "      <th>2</th>\n",
              "      <td>18/01/2021</td>\n",
              "      <td>India</td>\n",
              "      <td>99449.0</td>\n",
              "      <td>13611.0</td>\n",
              "      <td>6583.0</td>\n",
              "      <td>99449.0</td>\n",
              "      <td>0.0</td>\n",
              "      <td>41361.0</td>\n",
              "      <td>58083.0</td>\n",
              "      <td>5.0</td>\n",
              "      <td>1299.0</td>\n",
              "      <td>98150.0</td>\n",
              "      <td>99449.0</td>\n",
              "    </tr>\n",
              "    <tr>\n",
              "      <th>3</th>\n",
              "      <td>19/01/2021</td>\n",
              "      <td>India</td>\n",
              "      <td>195525.0</td>\n",
              "      <td>17855.0</td>\n",
              "      <td>7951.0</td>\n",
              "      <td>195525.0</td>\n",
              "      <td>0.0</td>\n",
              "      <td>81901.0</td>\n",
              "      <td>113613.0</td>\n",
              "      <td>11.0</td>\n",
              "      <td>3017.0</td>\n",
              "      <td>192508.0</td>\n",
              "      <td>195525.0</td>\n",
              "    </tr>\n",
              "    <tr>\n",
              "      <th>4</th>\n",
              "      <td>20/01/2021</td>\n",
              "      <td>India</td>\n",
              "      <td>251280.0</td>\n",
              "      <td>25472.0</td>\n",
              "      <td>10504.0</td>\n",
              "      <td>251280.0</td>\n",
              "      <td>0.0</td>\n",
              "      <td>98111.0</td>\n",
              "      <td>153145.0</td>\n",
              "      <td>24.0</td>\n",
              "      <td>3946.0</td>\n",
              "      <td>247334.0</td>\n",
              "      <td>251280.0</td>\n",
              "    </tr>\n",
              "  </tbody>\n",
              "</table>\n",
              "</div>"
            ],
            "text/plain": [
              "   Updated On  ... Total Individuals Vaccinated\n",
              "0  16/01/2021  ...                      48276.0\n",
              "1  17/01/2021  ...                      58604.0\n",
              "2  18/01/2021  ...                      99449.0\n",
              "3  19/01/2021  ...                     195525.0\n",
              "4  20/01/2021  ...                     251280.0\n",
              "\n",
              "[5 rows x 13 columns]"
            ]
          },
          "metadata": {
            "tags": []
          },
          "execution_count": 9
        }
      ]
    },
    {
      "cell_type": "code",
      "metadata": {
        "colab": {
          "base_uri": "https://localhost:8080/"
        },
        "id": "_JcNgEmDt15n",
        "outputId": "a6771687-26e1-4d2b-c8e3-b82c3c9d6910"
      },
      "source": [
        "duplicate_rows_df = df[df.duplicated()] #To find duplicate items present in dataset\n",
        "print(\"number of duplicate rows: \", duplicate_rows_df.shape)"
      ],
      "execution_count": 10,
      "outputs": [
        {
          "output_type": "stream",
          "text": [
            "number of duplicate rows:  (0, 13)\n"
          ],
          "name": "stdout"
        }
      ]
    },
    {
      "cell_type": "code",
      "metadata": {
        "colab": {
          "base_uri": "https://localhost:8080/"
        },
        "id": "4VWDVQvxucOq",
        "outputId": "766fbec7-e235-413c-d7ab-6ab779a306fd"
      },
      "source": [
        "df.count()#Total no. of rows of that particular field"
      ],
      "execution_count": 11,
      "outputs": [
        {
          "output_type": "execute_result",
          "data": {
            "text/plain": [
              "Updated On                             6699\n",
              "State                                  6699\n",
              "Total Doses Administered               6364\n",
              "Total Sessions Conducted               6363\n",
              "Total Sites                            6363\n",
              "First Dose Administered                6363\n",
              "Second Dose Administered               6363\n",
              "Male(Individuals Vaccinated)           6363\n",
              "Female(Individuals Vaccinated)         6363\n",
              "Transgender(Individuals Vaccinated)    6363\n",
              "Total Covaxin Administered             6363\n",
              "Total CoviShield Administered          6363\n",
              "Total Individuals Vaccinated           6363\n",
              "dtype: int64"
            ]
          },
          "metadata": {
            "tags": []
          },
          "execution_count": 11
        }
      ]
    },
    {
      "cell_type": "code",
      "metadata": {
        "id": "VS756yMru0Ez"
      },
      "source": [
        "df = df.drop_duplicates()#To delete duplicate items"
      ],
      "execution_count": 12,
      "outputs": []
    },
    {
      "cell_type": "code",
      "metadata": {
        "colab": {
          "base_uri": "https://localhost:8080/"
        },
        "id": "Ibx1ZTq6u9AO",
        "outputId": "a796f5a1-3730-4644-db4a-4ea58a5b669f"
      },
      "source": [
        "df.count()"
      ],
      "execution_count": 13,
      "outputs": [
        {
          "output_type": "execute_result",
          "data": {
            "text/plain": [
              "Updated On                             6699\n",
              "State                                  6699\n",
              "Total Doses Administered               6364\n",
              "Total Sessions Conducted               6363\n",
              "Total Sites                            6363\n",
              "First Dose Administered                6363\n",
              "Second Dose Administered               6363\n",
              "Male(Individuals Vaccinated)           6363\n",
              "Female(Individuals Vaccinated)         6363\n",
              "Transgender(Individuals Vaccinated)    6363\n",
              "Total Covaxin Administered             6363\n",
              "Total CoviShield Administered          6363\n",
              "Total Individuals Vaccinated           6363\n",
              "dtype: int64"
            ]
          },
          "metadata": {
            "tags": []
          },
          "execution_count": 13
        }
      ]
    },
    {
      "cell_type": "code",
      "metadata": {
        "colab": {
          "base_uri": "https://localhost:8080/"
        },
        "id": "grIR1nigvYQo",
        "outputId": "18f3c2cc-e525-445a-beb5-ed6155e97bd2"
      },
      "source": [
        "print(df.isnull().sum())#To find any null value present "
      ],
      "execution_count": 14,
      "outputs": [
        {
          "output_type": "stream",
          "text": [
            "Updated On                               0\n",
            "State                                    0\n",
            "Total Doses Administered               335\n",
            "Total Sessions Conducted               336\n",
            "Total Sites                            336\n",
            "First Dose Administered                336\n",
            "Second Dose Administered               336\n",
            "Male(Individuals Vaccinated)           336\n",
            "Female(Individuals Vaccinated)         336\n",
            "Transgender(Individuals Vaccinated)    336\n",
            "Total Covaxin Administered             336\n",
            "Total CoviShield Administered          336\n",
            "Total Individuals Vaccinated           336\n",
            "dtype: int64\n"
          ],
          "name": "stdout"
        }
      ]
    },
    {
      "cell_type": "code",
      "metadata": {
        "colab": {
          "base_uri": "https://localhost:8080/"
        },
        "id": "xDPx90B0veHn",
        "outputId": "462da9bb-feae-4fb2-d4fa-3c4f22aa7c6f"
      },
      "source": [
        "df = df.dropna() #Drop all the null values present\n",
        "df.count()"
      ],
      "execution_count": 15,
      "outputs": [
        {
          "output_type": "execute_result",
          "data": {
            "text/plain": [
              "Updated On                             6363\n",
              "State                                  6363\n",
              "Total Doses Administered               6363\n",
              "Total Sessions Conducted               6363\n",
              "Total Sites                            6363\n",
              "First Dose Administered                6363\n",
              "Second Dose Administered               6363\n",
              "Male(Individuals Vaccinated)           6363\n",
              "Female(Individuals Vaccinated)         6363\n",
              "Transgender(Individuals Vaccinated)    6363\n",
              "Total Covaxin Administered             6363\n",
              "Total CoviShield Administered          6363\n",
              "Total Individuals Vaccinated           6363\n",
              "dtype: int64"
            ]
          },
          "metadata": {
            "tags": []
          },
          "execution_count": 15
        }
      ]
    },
    {
      "cell_type": "code",
      "metadata": {
        "colab": {
          "base_uri": "https://localhost:8080/",
          "height": 296
        },
        "id": "uIq2qfFwvjLb",
        "outputId": "2d2d0c31-147e-4c58-fe78-38fba413e959"
      },
      "source": [
        "sns.boxplot(x=df[\"Total Individuals Vaccinated\"]) #Boxplot is used to find range in which the data lies"
      ],
      "execution_count": 20,
      "outputs": [
        {
          "output_type": "execute_result",
          "data": {
            "text/plain": [
              "<matplotlib.axes._subplots.AxesSubplot at 0x7f7d5a289450>"
            ]
          },
          "metadata": {
            "tags": []
          },
          "execution_count": 20
        },
        {
          "output_type": "display_data",
          "data": {
            "image/png": "[encoded data removed]",
            "text/plain": [
              "<Figure size 432x288 with 1 Axes>"
            ]
          },
          "metadata": {
            "tags": [],
            "needs_background": "light"
          }
        }
      ]
    },
    {
      "cell_type": "code",
      "metadata": {
        "colab": {
          "base_uri": "https://localhost:8080/",
          "height": 296
        },
        "id": "LZYyYsqAv2LL",
        "outputId": "4ab26d70-4a41-49c1-bdb3-3e5f4bacbbe0"
      },
      "source": [
        "sns.boxplot(x=df[\"Total Doses Administered\"]) "
      ],
      "execution_count": 26,
      "outputs": [
        {
          "output_type": "execute_result",
          "data": {
            "text/plain": [
              "<matplotlib.axes._subplots.AxesSubplot at 0x7f7d4af75450>"
            ]
          },
          "metadata": {
            "tags": []
          },
          "execution_count": 26
        },
        {
          "output_type": "display_data",
          "data": {
            "image/png": "[encoded data removed]",
            "text/plain": [
              "<Figure size 432x288 with 1 Axes>"
            ]
          },
          "metadata": {
            "tags": [],
            "needs_background": "light"
          }
        }
      ]
    },
    {
      "cell_type": "code",
      "metadata": {
        "id": "0mfPwwTewDIi"
      },
      "source": [
        "def remove_outlier(col): #To remove unecessary space that is not to be used\n",
        "    sorted(col)\n",
        "    Q1,Q3=col.quantile([0.25,0.75])\n",
        "    IQR= Q3-Q1\n",
        "    lower_range=Q1-(1.5*IQR)\n",
        "    upper_range=Q3+(1.5*IQR)\n",
        "    return lower_range,upper_range"
      ],
      "execution_count": 22,
      "outputs": []
    },
    {
      "cell_type": "code",
      "metadata": {
        "id": "4sRj-D8D6cMU"
      },
      "source": [
        "lowage,upage=remove_outlier(df['Total Individuals Vaccinated'])\n",
        "df['Total Individuals Vaccinated']=np.where(df['Total Individuals Vaccinated']>upage,upage,df['Total Individuals Vaccinated'])\n",
        "df['Total Individuals Vaccinated']=np.where(df['Total Individuals Vaccinated']<lowage,lowage,df['Total Individuals Vaccinated'])"
      ],
      "execution_count": 23,
      "outputs": []
    },
    {
      "cell_type": "code",
      "metadata": {
        "colab": {
          "base_uri": "https://localhost:8080/",
          "height": 276
        },
        "id": "DkiR9x2Y64Ey",
        "outputId": "50680d37-d3ce-4e46-8c67-756a144fe1a4"
      },
      "source": [
        "df.boxplot(column=[\"Total Individuals Vaccinated\"])\n",
        "plt.show()"
      ],
      "execution_count": 24,
      "outputs": [
        {
          "output_type": "display_data",
          "data": {
            "image/png": "[encoded data removed]",
            "text/plain": [
              "<Figure size 432x288 with 1 Axes>"
            ]
          },
          "metadata": {
            "tags": [],
            "needs_background": "light"
          }
        }
      ]
    },
    {
      "cell_type": "code",
      "metadata": {
        "colab": {
          "base_uri": "https://localhost:8080/",
          "height": 593
        },
        "id": "P-2RY9iAlWJR",
        "outputId": "6126a973-323f-4e88-9e13-d4c575e38196"
      },
      "source": [
        "df.corr() #To find the correlation"
      ],
      "execution_count": 25,
      "outputs": [
        {
          "output_type": "execute_result",
          "data": {
            "text/html": [
              "<div>\n",
              "<style scoped>\n",
              "    .dataframe tbody tr th:only-of-type {\n",
              "        vertical-align: middle;\n",
              "    }\n",
              "\n",
              "    .dataframe tbody tr th {\n",
              "        vertical-align: top;\n",
              "    }\n",
              "\n",
              "    .dataframe thead th {\n",
              "        text-align: right;\n",
              "    }\n",
              "</style>\n",
              "<table border=\"1\" class=\"dataframe\">\n",
              "  <thead>\n",
              "    <tr style=\"text-align: right;\">\n",
              "      <th></th>\n",
              "      <th>Total Doses Administered</th>\n",
              "      <th>Total Sessions Conducted</th>\n",
              "      <th>Total Sites</th>\n",
              "      <th>First Dose Administered</th>\n",
              "      <th>Second Dose Administered</th>\n",
              "      <th>Male(Individuals Vaccinated)</th>\n",
              "      <th>Female(Individuals Vaccinated)</th>\n",
              "      <th>Transgender(Individuals Vaccinated)</th>\n",
              "      <th>Total Covaxin Administered</th>\n",
              "      <th>Total CoviShield Administered</th>\n",
              "      <th>Total Individuals Vaccinated</th>\n",
              "    </tr>\n",
              "  </thead>\n",
              "  <tbody>\n",
              "    <tr>\n",
              "      <th>Total Doses Administered</th>\n",
              "      <td>1.000000</td>\n",
              "      <td>0.927323</td>\n",
              "      <td>0.730636</td>\n",
              "      <td>0.999588</td>\n",
              "      <td>0.992115</td>\n",
              "      <td>0.993924</td>\n",
              "      <td>0.994730</td>\n",
              "      <td>0.982723</td>\n",
              "      <td>0.992649</td>\n",
              "      <td>0.999864</td>\n",
              "      <td>0.450079</td>\n",
              "    </tr>\n",
              "    <tr>\n",
              "      <th>Total Sessions Conducted</th>\n",
              "      <td>0.927323</td>\n",
              "      <td>1.000000</td>\n",
              "      <td>0.759688</td>\n",
              "      <td>0.932778</td>\n",
              "      <td>0.894516</td>\n",
              "      <td>0.931649</td>\n",
              "      <td>0.931999</td>\n",
              "      <td>0.921153</td>\n",
              "      <td>0.918302</td>\n",
              "      <td>0.927548</td>\n",
              "      <td>0.421645</td>\n",
              "    </tr>\n",
              "    <tr>\n",
              "      <th>Total Sites</th>\n",
              "      <td>0.730636</td>\n",
              "      <td>0.759688</td>\n",
              "      <td>1.000000</td>\n",
              "      <td>0.737251</td>\n",
              "      <td>0.694669</td>\n",
              "      <td>0.706150</td>\n",
              "      <td>0.717165</td>\n",
              "      <td>0.653534</td>\n",
              "      <td>0.679149</td>\n",
              "      <td>0.734515</td>\n",
              "      <td>0.428155</td>\n",
              "    </tr>\n",
              "    <tr>\n",
              "      <th>First Dose Administered</th>\n",
              "      <td>0.999588</td>\n",
              "      <td>0.932778</td>\n",
              "      <td>0.737251</td>\n",
              "      <td>1.000000</td>\n",
              "      <td>0.988110</td>\n",
              "      <td>0.994774</td>\n",
              "      <td>0.995654</td>\n",
              "      <td>0.983397</td>\n",
              "      <td>0.991730</td>\n",
              "      <td>0.999516</td>\n",
              "      <td>0.450842</td>\n",
              "    </tr>\n",
              "    <tr>\n",
              "      <th>Second Dose Administered</th>\n",
              "      <td>0.992115</td>\n",
              "      <td>0.894516</td>\n",
              "      <td>0.694669</td>\n",
              "      <td>0.988110</td>\n",
              "      <td>1.000000</td>\n",
              "      <td>0.980585</td>\n",
              "      <td>0.981063</td>\n",
              "      <td>0.970262</td>\n",
              "      <td>0.987052</td>\n",
              "      <td>0.991701</td>\n",
              "      <td>0.442388</td>\n",
              "    </tr>\n",
              "    <tr>\n",
              "      <th>Male(Individuals Vaccinated)</th>\n",
              "      <td>0.993924</td>\n",
              "      <td>0.931649</td>\n",
              "      <td>0.706150</td>\n",
              "      <td>0.994774</td>\n",
              "      <td>0.980585</td>\n",
              "      <td>1.000000</td>\n",
              "      <td>0.999324</td>\n",
              "      <td>0.993268</td>\n",
              "      <td>0.992292</td>\n",
              "      <td>0.993049</td>\n",
              "      <td>0.439092</td>\n",
              "    </tr>\n",
              "    <tr>\n",
              "      <th>Female(Individuals Vaccinated)</th>\n",
              "      <td>0.994730</td>\n",
              "      <td>0.931999</td>\n",
              "      <td>0.717165</td>\n",
              "      <td>0.995654</td>\n",
              "      <td>0.981063</td>\n",
              "      <td>0.999324</td>\n",
              "      <td>1.000000</td>\n",
              "      <td>0.990008</td>\n",
              "      <td>0.990400</td>\n",
              "      <td>0.994210</td>\n",
              "      <td>0.442128</td>\n",
              "    </tr>\n",
              "    <tr>\n",
              "      <th>Transgender(Individuals Vaccinated)</th>\n",
              "      <td>0.982723</td>\n",
              "      <td>0.921153</td>\n",
              "      <td>0.653534</td>\n",
              "      <td>0.983397</td>\n",
              "      <td>0.970262</td>\n",
              "      <td>0.993268</td>\n",
              "      <td>0.990008</td>\n",
              "      <td>1.000000</td>\n",
              "      <td>0.990935</td>\n",
              "      <td>0.980626</td>\n",
              "      <td>0.418433</td>\n",
              "    </tr>\n",
              "    <tr>\n",
              "      <th>Total Covaxin Administered</th>\n",
              "      <td>0.992649</td>\n",
              "      <td>0.918302</td>\n",
              "      <td>0.679149</td>\n",
              "      <td>0.991730</td>\n",
              "      <td>0.987052</td>\n",
              "      <td>0.992292</td>\n",
              "      <td>0.990400</td>\n",
              "      <td>0.990935</td>\n",
              "      <td>1.000000</td>\n",
              "      <td>0.990653</td>\n",
              "      <td>0.436739</td>\n",
              "    </tr>\n",
              "    <tr>\n",
              "      <th>Total CoviShield Administered</th>\n",
              "      <td>0.999864</td>\n",
              "      <td>0.927548</td>\n",
              "      <td>0.734515</td>\n",
              "      <td>0.999516</td>\n",
              "      <td>0.991701</td>\n",
              "      <td>0.993049</td>\n",
              "      <td>0.994210</td>\n",
              "      <td>0.980626</td>\n",
              "      <td>0.990653</td>\n",
              "      <td>1.000000</td>\n",
              "      <td>0.450848</td>\n",
              "    </tr>\n",
              "    <tr>\n",
              "      <th>Total Individuals Vaccinated</th>\n",
              "      <td>0.450079</td>\n",
              "      <td>0.421645</td>\n",
              "      <td>0.428155</td>\n",
              "      <td>0.450842</td>\n",
              "      <td>0.442388</td>\n",
              "      <td>0.439092</td>\n",
              "      <td>0.442128</td>\n",
              "      <td>0.418433</td>\n",
              "      <td>0.436739</td>\n",
              "      <td>0.450848</td>\n",
              "      <td>1.000000</td>\n",
              "    </tr>\n",
              "  </tbody>\n",
              "</table>\n",
              "</div>"
            ],
            "text/plain": [
              "                                     Total Doses Administered  ...  Total Individuals Vaccinated\n",
              "Total Doses Administered                             1.000000  ...                      0.450079\n",
              "Total Sessions Conducted                             0.927323  ...                      0.421645\n",
              "Total Sites                                          0.730636  ...                      0.428155\n",
              "First Dose Administered                              0.999588  ...                      0.450842\n",
              "Second Dose Administered                             0.992115  ...                      0.442388\n",
              "Male(Individuals Vaccinated)                         0.993924  ...                      0.439092\n",
              "Female(Individuals Vaccinated)                       0.994730  ...                      0.442128\n",
              "Transgender(Individuals Vaccinated)                  0.982723  ...                      0.418433\n",
              "Total Covaxin Administered                           0.992649  ...                      0.436739\n",
              "Total CoviShield Administered                        0.999864  ...                      0.450848\n",
              "Total Individuals Vaccinated                         0.450079  ...                      1.000000\n",
              "\n",
              "[11 rows x 11 columns]"
            ]
          },
          "metadata": {
            "tags": []
          },
          "execution_count": 25
        }
      ]
    }
  ]
}